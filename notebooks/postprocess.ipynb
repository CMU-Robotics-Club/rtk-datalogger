{
 "cells": [
  {
   "cell_type": "code",
   "execution_count": 3,
   "metadata": {},
   "outputs": [],
   "source": [
    "### Imports and constants only\n",
    "import os\n",
    "\n",
    "ROVER_NAME = \"scuwuter\"\n",
    "BASE_NAME = \"base\"\n",
    "\n",
    "INPUT_DIR = \"/home/delaynie/Documents/rtklib-workspace/cmubuggy-datalogger/data/ubx-files/\"\n",
    "OUTPUT_DIR = \"/home/delaynie/Documents/rtklib-workspace/cmubuggy-datalogger/data/output-files/\""
   ]
  },
  {
   "cell_type": "code",
   "execution_count": 1,
   "metadata": {},
   "outputs": [
    {
     "name": "stderr",
     "output_type": "stream",
     "text": [
      "input file  : /home/delaynie/Documents/rtklib-workspace/cmubuggy-datalogger/data/ubx-files/scuwuter.ubx (u-blox UBX)\n",
      "->rinex obs : /home/delaynie/Documents/rtklib-workspace/cmubuggy-datalogger/data/output-files/scuwuter.obs\n",
      "->rinex nav : /home/delaynie/Documents/rtklib-workspace/cmubuggy-datalogger/data/output-files/scuwuter.nav\n",
      "->sbas log  : /home/delaynie/Documents/rtklib-workspace/cmubuggy-datalogger/data/output-files/scuwuter.sbs\n",
      "\n",
      "scanning: 2023/03/24 17:55:05 GRESC\n",
      "2023/03/24 17:48:24-03/24 17:55:06: O=3997 N=36 S=317 \n",
      "input file  : /home/delaynie/Documents/rtklib-workspace/cmubuggy-datalogger/data/ubx-files/base.ubx (u-blox UBX)\n",
      "->rinex obs : /home/delaynie/Documents/rtklib-workspace/cmubuggy-datalogger/data/output-files/base.obs\n",
      "->rinex nav : /home/delaynie/Documents/rtklib-workspace/cmubuggy-datalogger/data/output-files/base.nav\n",
      "->sbas log  : /home/delaynie/Documents/rtklib-workspace/cmubuggy-datalogger/data/output-files/base.sbs\n",
      "\n",
      "scanning: 2023/03/25 00:00:29 GREC\n",
      "2023/03/23 23:59:30-03/25 00:00:29: O=86438 N=2001 E=1 \n"
     ]
    },
    {
     "data": {
      "text/plain": [
       "0"
      ]
     },
     "execution_count": 1,
     "metadata": {},
     "output_type": "execute_result"
    }
   ],
   "source": [
    "os.system(f\"convbin {INPUT_DIR}{ROVER_NAME}.ubx -o {OUTPUT_DIR}{ROVER_NAME}.obs -n {OUTPUT_DIR}{ROVER_NAME}.nav -s {OUTPUT_DIR}{ROVER_NAME}.sbs\")\n",
    "os.system(f\"convbin {INPUT_DIR}{BASE_NAME}.ubx -o {OUTPUT_DIR}{BASE_NAME}.obs -n {OUTPUT_DIR}{BASE_NAME}.nav -s {OUTPUT_DIR}{BASE_NAME}.sbs\")"
   ]
  },
  {
   "cell_type": "code",
   "execution_count": 7,
   "metadata": {},
   "outputs": [],
   "source": [
    "if (os.path.getsize(f\"{OUTPUT_DIR}{ROVER_NAME}.nav\") < 1000\n",
    "    or os.path.getsize(f\"{OUTPUT_DIR}{BASE_NAME}.nav\") < 1000\n",
    "    or os.path.getsize(f\"{OUTPUT_DIR}{ROVER_NAME}.obs\") < 10000\n",
    "    or os.path.getsize(f\"{OUTPUT_DIR}{BASE_NAME}.obs\") < 10000):\n",
    "    raise Exception(\"convbin borked. try again.\")"
   ]
  },
  {
   "cell_type": "code",
   "execution_count": 6,
   "metadata": {},
   "outputs": [],
   "source": [
    "rnx2rtkpArgs = [\"-m 5\", \"-i -d 9 -v 2\", \"-d 9 -v 2\"]"
   ]
  },
  {
   "cell_type": "code",
   "execution_count": 7,
   "metadata": {},
   "outputs": [
    {
     "name": "stderr",
     "output_type": "stream",
     "text": [
      "../../../../src/lambda.c : search loop count overflow\n",
      "../../../../src/lambda.c : search loop count overflow\n",
      "../../../../src/lambda.c : search loop count overflow\n",
      "../../../../src/lambda.c : search loop count overflow\n",
      "../../../../src/lambda.c : search loop count overflow\n",
      "../../../../src/lambda.c : search loop count overflow\n",
      "../../../../src/lambda.c : search loop count overflow\n",
      "../../../../src/lambda.c : search loop count overflow2023/03/23 23:59:30 Q=0\n",
      "../../../../src/lambda.c : search loop count overflow\n",
      "../../../../src/lambda.c : search loop count overflow\n",
      "../../../../src/lambda.c : search loop count overflow\n",
      "../../../../src/lambda.c : search loop count overflow\n",
      "../../../../src/lambda.c : search loop count overflow\n",
      "../../../../src/lambda.c : search loop count overflow\n",
      "../../../../src/lambda.c : search loop count overflow\n",
      "../../../../src/lambda.c : search loop count overflow\n",
      "../../../../src/lambda.c : search loop count overflow\n",
      "../../../../src/lambda.c : search loop count overflow\n",
      "../../../../src/lambda.c : search loop count overflow\n",
      "../../../../src/lambda.c : search loop count overflow\n",
      "../../../../src/lambda.c : search loop count overflow\n",
      "../../../../src/lambda.c : search loop count overflow\n",
      "../../../../src/lambda.c : search loop count overflow\n",
      "../../../../src/lambda.c : search loop count overflow\n",
      "../../../../src/lambda.c : search loop count overflow\n",
      "../../../../src/lambda.c : search loop count overflow\n",
      "../../../../src/lambda.c : search loop count overflow\n",
      "../../../../src/lambda.c : search loop count overflow\n",
      "../../../../src/lambda.c : search loop count overflow\n",
      "../../../../src/lambda.c : search loop count overflow\n",
      "../../../../src/lambda.c : search loop count overflow\n",
      "../../../../src/lambda.c : search loop count overflow\n",
      "../../../../src/lambda.c : search loop count overflow\n",
      "../../../../src/lambda.c : search loop count overflow\n",
      "../../../../src/lambda.c : search loop count overflow\n",
      "../../../../src/lambda.c : search loop count overflow\n",
      "../../../../src/lambda.c : search loop count overflow\n",
      "../../../../src/lambda.c : search loop count overflow\n",
      "../../../../src/lambda.c : search loop count overflow\n",
      "../../../../src/lambda.c : search loop count overflow\n",
      "../../../../src/lambda.c : search loop count overflow\n",
      "../../../../src/lambda.c : search loop count overflow\n",
      "../../../../src/lambda.c : search loop count overflow\n",
      "../../../../src/lambda.c : search loop count overflow\n",
      "../../../../src/lambda.c : search loop count overflow2023/03/23 23:59:30 Q=0\n",
      "../../../../src/lambda.c : search loop count overflow\n",
      "                                        \r"
     ]
    }
   ],
   "source": [
    "i = 1\n",
    "for arg in rnx2rtkpArgs:\n",
    "    os.system(f\"rnx2rtkp -o {OUTPUT_DIR}output{i}.pos {arg} -p 2 -y 2 -sys G,R,E,C -t -c -s , -l 40.442403483 -79.946996633 286.257 {OUTPUT_DIR}{ROVER_NAME}.obs {OUTPUT_DIR}{BASE_NAME}.obs {OUTPUT_DIR}{ROVER_NAME}.nav\")\n",
    "    i += 1"
   ]
  }
 ],
 "metadata": {
  "kernelspec": {
   "display_name": "Python 3",
   "language": "python",
   "name": "python3"
  },
  "language_info": {
   "codemirror_mode": {
    "name": "ipython",
    "version": 3
   },
   "file_extension": ".py",
   "mimetype": "text/x-python",
   "name": "python",
   "nbconvert_exporter": "python",
   "pygments_lexer": "ipython3",
   "version": "3.10.6"
  },
  "orig_nbformat": 4
 },
 "nbformat": 4,
 "nbformat_minor": 2
}
