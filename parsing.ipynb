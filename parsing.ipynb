{
 "cells": [
  {
   "attachments": {},
   "cell_type": "markdown",
   "metadata": {},
   "source": [
    "# Pipe 2: Parsing\n",
    "\n",
    "This notebook parses `.pos` files output by the previous pipe, and generates `.csv` files with headers.\n",
    "**No math is involved.**\n"
   ]
  },
  {
   "cell_type": "code",
   "execution_count": 5,
   "metadata": {},
   "outputs": [],
   "source": [
    "import csv\n",
    "import datetime\n",
    "\n",
    "from constants import *"
   ]
  },
  {
   "cell_type": "code",
   "execution_count": 6,
   "metadata": {},
   "outputs": [],
   "source": [
    "INPUT_FILEPATH = \"/home/delaynie/Documents/rtklib-workspace/cmubuggy-datalogger/data/postprocess/\"\n",
    "INPUT_FILENAMES = [\"output1.pos\", \"output2.pos\", \"output3.pos\"]\n",
    "OUTPUT_FILEPATH = \"/home/delaynie/Documents/rtklib-workspace/cmubuggy-datalogger/data/position-csv/\""
   ]
  },
  {
   "cell_type": "code",
   "execution_count": 7,
   "metadata": {},
   "outputs": [],
   "source": [
    "def posToCsv(inputPath, outputPath):\n",
    "    with open(inputPath, 'r') as file:\n",
    "        lines = [line for line in file.readlines() if not line.startswith(\"%\")] # removes lines beginning with %\n",
    "        lines = [line.strip() for line in lines] # remove leading and trailing whitespace from each line\n",
    "        lines = [[value.strip() for value in line.split(\",\")] for line in lines] # removes leading and trailing whitespace from each CSV value in each line\n",
    "\n",
    "    rows = []\n",
    "    for line in lines:\n",
    "        row = {}\n",
    "        for i in range(len(line)):\n",
    "            row[PARSE_CSV_HEADER[i]] = line[i]\n",
    "        rows.append(row)\n",
    "    \n",
    "    with open(outputPath, 'w') as file:\n",
    "        writer = csv.DictWriter(file, fieldnames=PARSE_CSV_HEADER)\n",
    "        writer.writeheader()\n",
    "        writer.writerows(rows)\n"
   ]
  },
  {
   "cell_type": "code",
   "execution_count": 8,
   "metadata": {},
   "outputs": [],
   "source": [
    "for name in INPUT_FILENAMES:\n",
    "    posToCsv(INPUT_FILEPATH+name, OUTPUT_FILEPATH+name.split(\".\")[0]+\".csv\")"
   ]
  }
 ],
 "metadata": {
  "kernelspec": {
   "display_name": "Python 3",
   "language": "python",
   "name": "python3"
  },
  "language_info": {
   "codemirror_mode": {
    "name": "ipython",
    "version": 3
   },
   "file_extension": ".py",
   "mimetype": "text/x-python",
   "name": "python",
   "nbconvert_exporter": "python",
   "pygments_lexer": "ipython3",
   "version": "3.10.6"
  },
  "orig_nbformat": 4
 },
 "nbformat": 4,
 "nbformat_minor": 2
}
