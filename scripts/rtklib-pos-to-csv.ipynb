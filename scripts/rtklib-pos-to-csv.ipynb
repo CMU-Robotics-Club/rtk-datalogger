{
 "cells": [
  {
   "attachments": {},
   "cell_type": "markdown",
   "metadata": {},
   "source": [
    "This notebook is for taking `.pos` files and turning them into `.csv` files (with headers).\n",
    "No data processing involved.\n",
    "Note: the `.pos` files come from the `postprocess-solutions.ipynb`."
   ]
  },
  {
   "cell_type": "code",
   "execution_count": 33,
   "metadata": {},
   "outputs": [],
   "source": [
    "import csv\n",
    "import datetime"
   ]
  },
  {
   "cell_type": "code",
   "execution_count": 34,
   "metadata": {},
   "outputs": [],
   "source": [
    "FILEPATH = \"/home/delaynie/Documents/rtklib-workspace/cmubuggy-datalogger/data/output-files/\"\n",
    "FILENAMES = [\"output1.pos\", \"output2.pos\", \"output3.pos\"]\n",
    "\n",
    "CSV_HEADER = [\"timestamp\", \"latitude\", \"longitude\", \"altitude\", \"fix-type\", \"satellites\", \"sdn\",  \"sde\",  \"sdu\", \"sdne\", \"sdeu\", \"sdun\", \"age\", \"ratio\"]\n",
    "\n",
    "TIMESTAMP_FORMAT = \"%Y/%m/%d %H:%M:%S.%f\""
   ]
  },
  {
   "cell_type": "code",
   "execution_count": 35,
   "metadata": {},
   "outputs": [],
   "source": [
    "def posToCsv(inputPath, outputPath):\n",
    "    with open(inputPath, 'r') as file:\n",
    "        lines = [line for line in file.readlines() if not line.startswith(\"%\")] # removes lines beginning with %\n",
    "        lines = [line.strip() for line in lines] # remove leading and trailing whitespace from each line\n",
    "        lines = [[value.strip() for value in line.split(\",\")] for line in lines] # removes leading and trailing whitespace from each CSV value in each line\n",
    "\n",
    "    rows = []\n",
    "    for line in lines:\n",
    "        row = {}\n",
    "        for i in range(len(line)):\n",
    "            row[CSV_HEADER[i]] = line[i]\n",
    "        rows.append(row)\n",
    "    \n",
    "    with open(outputPath, 'w') as file:\n",
    "        writer = csv.DictWriter(file, fieldnames=CSV_HEADER)\n",
    "        writer.writeheader()\n",
    "        writer.writerows(rows)\n"
   ]
  },
  {
   "cell_type": "code",
   "execution_count": 36,
   "metadata": {},
   "outputs": [],
   "source": [
    "posToCsv(FILEPATH+FILENAMES[0], \"testouput.csvs\")"
   ]
  }
 ],
 "metadata": {
  "kernelspec": {
   "display_name": "Python 3",
   "language": "python",
   "name": "python3"
  },
  "language_info": {
   "codemirror_mode": {
    "name": "ipython",
    "version": 3
   },
   "file_extension": ".py",
   "mimetype": "text/x-python",
   "name": "python",
   "nbconvert_exporter": "python",
   "pygments_lexer": "ipython3",
   "version": "3.10.6"
  },
  "orig_nbformat": 4
 },
 "nbformat": 4,
 "nbformat_minor": 2
}
